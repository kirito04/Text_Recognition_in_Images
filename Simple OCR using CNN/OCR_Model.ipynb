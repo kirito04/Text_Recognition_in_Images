{
 "cells": [
  {
   "cell_type": "markdown",
   "metadata": {},
   "source": [
    "## Importing Libraries"
   ]
  },
  {
   "cell_type": "code",
   "execution_count": 6,
   "metadata": {},
   "outputs": [],
   "source": [
    "import numpy as np\n",
    "import cv2\n",
    "import os"
   ]
  },
  {
   "cell_type": "markdown",
   "metadata": {},
   "source": [
    "## Listing Folders"
   ]
  },
  {
   "cell_type": "code",
   "execution_count": 2,
   "metadata": {},
   "outputs": [],
   "source": [
    "path = 'MyData'\n",
    "folders = (os.listdir(path))\n",
    "no_of_classes = len(folders)"
   ]
  },
  {
   "cell_type": "markdown",
   "metadata": {},
   "source": [
    "## Loading data in kernel"
   ]
  },
  {
   "cell_type": "code",
   "execution_count": 3,
   "metadata": {},
   "outputs": [
    {
     "name": "stdout",
     "output_type": "stream",
     "text": [
      "62988\n"
     ]
    }
   ],
   "source": [
    "images = []\n",
    "classNo = []\n",
    "x = 0\n",
    "for folder in folders:\n",
    "    imageList = os.listdir(path+\"/\"+folder)\n",
    "    for img in imageList:\n",
    "        curImg = cv2.imread(path+\"/\"+folder+\"/\"+img)\n",
    "        curImg = cv2.resize(curImg, (64, 64))\n",
    "        images.append(curImg)\n",
    "        classNo.append(x)\n",
    "    x += 1\n",
    "\n",
    "print(len(images))"
   ]
  },
  {
   "cell_type": "code",
   "execution_count": 4,
   "metadata": {},
   "outputs": [],
   "source": [
    "label = []\n",
    "for folder in folders:\n",
    "    if len(folder) == 2:\n",
    "        label.append(folder[-1])\n",
    "    else:\n",
    "        label.append(folder)"
   ]
  },
  {
   "cell_type": "code",
   "execution_count": 5,
   "metadata": {},
   "outputs": [
    {
     "data": {
      "text/plain": [
       "{0: '0',\n",
       " 1: '1',\n",
       " 2: '2',\n",
       " 3: '3',\n",
       " 4: '4',\n",
       " 5: '5',\n",
       " 6: '6',\n",
       " 7: '7',\n",
       " 8: '8',\n",
       " 9: '9',\n",
       " 10: 'A',\n",
       " 11: 'B',\n",
       " 12: 'C',\n",
       " 13: 'D',\n",
       " 14: 'E',\n",
       " 15: 'F',\n",
       " 16: 'G',\n",
       " 17: 'H',\n",
       " 18: 'I',\n",
       " 19: 'J',\n",
       " 20: 'K',\n",
       " 21: 'L',\n",
       " 22: 'M',\n",
       " 23: 'N',\n",
       " 24: 'O',\n",
       " 25: 'P',\n",
       " 26: 'Q',\n",
       " 27: 'R',\n",
       " 28: 'S',\n",
       " 29: 'T',\n",
       " 30: 'U',\n",
       " 31: 'V',\n",
       " 32: 'W',\n",
       " 33: 'X',\n",
       " 34: 'Y',\n",
       " 35: 'Z',\n",
       " 36: 'a',\n",
       " 37: 'b',\n",
       " 38: 'c',\n",
       " 39: 'd',\n",
       " 40: 'e',\n",
       " 41: 'f',\n",
       " 42: 'g',\n",
       " 43: 'h',\n",
       " 44: 'i',\n",
       " 45: 'j',\n",
       " 46: 'k',\n",
       " 47: 'l',\n",
       " 48: 'm',\n",
       " 49: 'n',\n",
       " 50: 'o',\n",
       " 51: 'p',\n",
       " 52: 'q',\n",
       " 53: 'r',\n",
       " 54: 's',\n",
       " 55: 't',\n",
       " 56: 'u',\n",
       " 57: 'v',\n",
       " 58: 'w',\n",
       " 59: 'x',\n",
       " 60: 'y',\n",
       " 61: 'z'}"
      ]
     },
     "execution_count": 5,
     "metadata": {},
     "output_type": "execute_result"
    }
   ],
   "source": [
    "labelmapping = {}\n",
    "for x in range(0, len(label)):\n",
    "    labelmapping[x] = label[x]\n",
    "\n",
    "labelmapping"
   ]
  },
  {
   "cell_type": "code",
   "execution_count": 6,
   "metadata": {},
   "outputs": [
    {
     "data": {
      "text/plain": [
       "61"
      ]
     },
     "execution_count": 6,
     "metadata": {},
     "output_type": "execute_result"
    }
   ],
   "source": [
    "classNo[-1]"
   ]
  },
  {
   "cell_type": "code",
   "execution_count": 7,
   "metadata": {},
   "outputs": [
    {
     "data": {
      "text/plain": [
       "62988"
      ]
     },
     "execution_count": 7,
     "metadata": {},
     "output_type": "execute_result"
    }
   ],
   "source": [
    "len(classNo)"
   ]
  },
  {
   "cell_type": "markdown",
   "metadata": {},
   "source": [
    "## Converting images list into numpy array"
   ]
  },
  {
   "cell_type": "code",
   "execution_count": 8,
   "metadata": {},
   "outputs": [],
   "source": [
    "images = np.array(images)\n",
    "classlabel = np.array(classNo)"
   ]
  },
  {
   "cell_type": "code",
   "execution_count": 9,
   "metadata": {},
   "outputs": [
    {
     "data": {
      "text/plain": [
       "array([ 0,  0,  0, ..., 61, 61, 61])"
      ]
     },
     "execution_count": 9,
     "metadata": {},
     "output_type": "execute_result"
    }
   ],
   "source": [
    "classlabel"
   ]
  },
  {
   "cell_type": "markdown",
   "metadata": {},
   "source": [
    "## Splitting Data"
   ]
  },
  {
   "cell_type": "code",
   "execution_count": 10,
   "metadata": {},
   "outputs": [],
   "source": [
    "from sklearn.model_selection import train_test_split\n",
    "\n",
    "test_ratio = 0.2\n",
    "x_train, x_test, y_train, y_test = train_test_split(images, classlabel, test_size = test_ratio)"
   ]
  },
  {
   "cell_type": "code",
   "execution_count": 11,
   "metadata": {},
   "outputs": [
    {
     "name": "stdout",
     "output_type": "stream",
     "text": [
      "(50390, 64, 64, 3) (12598, 64, 64, 3)\n"
     ]
    }
   ],
   "source": [
    "print(x_train.shape, x_test.shape)"
   ]
  },
  {
   "cell_type": "code",
   "execution_count": 12,
   "metadata": {},
   "outputs": [],
   "source": [
    "# data for validation\n",
    "val_ratio = 0.2\n",
    "x_train, x_validation, y_train, y_validation = train_test_split(x_train, y_train, test_size = val_ratio)"
   ]
  },
  {
   "cell_type": "code",
   "execution_count": 13,
   "metadata": {},
   "outputs": [
    {
     "name": "stdout",
     "output_type": "stream",
     "text": [
      "(40312, 64, 64, 3) (10078, 64, 64, 3)\n"
     ]
    }
   ],
   "source": [
    "print(x_train.shape, x_validation.shape)"
   ]
  },
  {
   "cell_type": "markdown",
   "metadata": {},
   "source": [
    "## Number of images for training for each class "
   ]
  },
  {
   "cell_type": "code",
   "execution_count": 14,
   "metadata": {},
   "outputs": [
    {
     "data": {
      "text/plain": [
       "array([60, 30, 54, ..., 61, 12, 39])"
      ]
     },
     "execution_count": 14,
     "metadata": {},
     "output_type": "execute_result"
    }
   ],
   "source": [
    "y_train"
   ]
  },
  {
   "cell_type": "code",
   "execution_count": 15,
   "metadata": {},
   "outputs": [
    {
     "name": "stdout",
     "output_type": "stream",
     "text": [
      "[647, 676, 670, 639, 655, 620, 655, 660, 654, 666, 639, 654, 636, 670, 653, 645, 655, 650, 622, 646, 647, 654, 620, 646, 627, 676, 668, 643, 650, 660, 660, 663, 653, 647, 680, 660, 648, 652, 671, 624, 642, 668, 653, 668, 644, 655, 672, 633, 653, 639, 639, 628, 639, 638, 636, 665, 668, 670, 665, 609, 645]\n"
     ]
    }
   ],
   "source": [
    "numOfSamples= []\n",
    "for x in range(0, 61):\n",
    "    numOfSamples.append(len(np.where(y_train == x)[0]))\n",
    "print(numOfSamples)"
   ]
  },
  {
   "cell_type": "code",
   "execution_count": 16,
   "metadata": {},
   "outputs": [
    {
     "data": {
      "text/plain": [
       "array([60, 30, 54, ..., 61, 12, 39])"
      ]
     },
     "execution_count": 16,
     "metadata": {},
     "output_type": "execute_result"
    }
   ],
   "source": [
    "y_train"
   ]
  },
  {
   "cell_type": "markdown",
   "metadata": {},
   "source": [
    "## Distribution of Images"
   ]
  },
  {
   "cell_type": "code",
   "execution_count": 5,
   "metadata": {},
   "outputs": [],
   "source": [
    "import matplotlib.pyplot as plt"
   ]
  },
  {
   "cell_type": "code",
   "execution_count": 18,
   "metadata": {
    "scrolled": true
   },
   "outputs": [
    {
     "data": {
      "image/png": "[encoded data removed]",
      "text/plain": [
       "<Figure size 720x360 with 1 Axes>"
      ]
     },
     "metadata": {
      "needs_background": "light"
     },
     "output_type": "display_data"
    }
   ],
   "source": [
    "plt.figure(figsize = (10, 5))\n",
    "plt.bar(range(0, len(numOfSamples)), numOfSamples)\n",
    "plt.title(\"Number of images for each class\")\n",
    "plt.xlabel(\"Class Label\")\n",
    "plt.ylabel(\"Number of Images\")\n",
    "plt.show()"
   ]
  },
  {
   "cell_type": "markdown",
   "metadata": {},
   "source": [
    "0 - 9 -> digits (0 - 9)<br>\n",
    "10 - 35 -> Capital Alphabets (A - Z)<br>\n",
    "36 - 61 -> Small Alphabets (a -z)"
   ]
  },
  {
   "cell_type": "markdown",
   "metadata": {},
   "source": [
    "## Image Preprocessing"
   ]
  },
  {
   "cell_type": "code",
   "execution_count": 14,
   "metadata": {},
   "outputs": [],
   "source": [
    "def preprocessing(img):\n",
    "    # converting color image to grayscale image\n",
    "    img = cv2.cvtColor(img, cv2.COLOR_BGR2GRAY)\n",
    "    # equilizing the image\n",
    "    img = cv2.equalizeHist(img)\n",
    "    # normalizing the image\n",
    "    img = img / 255\n",
    "    # return preprocessed imgage\n",
    "    return img"
   ]
  },
  {
   "cell_type": "code",
   "execution_count": 20,
   "metadata": {},
   "outputs": [],
   "source": [
    "# preprocessing the dataset\n",
    "x_train = np.array(list(map(preprocessing, x_train)))\n",
    "x_validation = np.array(list(map(preprocessing, x_validation)))\n",
    "x_test = np.array(list(map(preprocessing, x_test)))"
   ]
  },
  {
   "cell_type": "code",
   "execution_count": 21,
   "metadata": {},
   "outputs": [],
   "source": [
    "# adding depth to images\n",
    "x_train = x_train.reshape(x_train.shape[0], x_train.shape[1], x_train.shape[2], 1)\n",
    "x_validation = x_validation.reshape(x_validation.shape[0], x_validation.shape[1], x_validation.shape[2], 1)\n",
    "x_test = x_test.reshape(x_test.shape[0], x_test.shape[1], x_test.shape[2], 1)"
   ]
  },
  {
   "cell_type": "markdown",
   "metadata": {},
   "source": [
    "## Building Model using Convolution Neural Network "
   ]
  },
  {
   "cell_type": "code",
   "execution_count": 3,
   "metadata": {},
   "outputs": [],
   "source": [
    "import tensorflow"
   ]
  },
  {
   "cell_type": "code",
   "execution_count": 4,
   "metadata": {},
   "outputs": [],
   "source": [
    "from keras.preprocessing.image import ImageDataGenerator\n",
    "from sklearn.preprocessing import OneHotEncoder\n",
    "from keras.models import load_model\n",
    "from keras.models import Sequential\n",
    "from keras.layers import Conv2D, MaxPooling2D, Dense, Flatten, Dropout"
   ]
  },
  {
   "cell_type": "code",
   "execution_count": 24,
   "metadata": {},
   "outputs": [],
   "source": [
    "dataGen = ImageDataGenerator(width_shift_range = 0.1,\n",
    "                             height_shift_range = 0.1,\n",
    "                             zoom_range = 0.2,\n",
    "                             shear_range = 0.1,\n",
    "                             rotation_range = 10)"
   ]
  },
  {
   "cell_type": "code",
   "execution_count": 25,
   "metadata": {},
   "outputs": [],
   "source": [
    "dataGen.fit(x_train)"
   ]
  },
  {
   "cell_type": "code",
   "execution_count": 26,
   "metadata": {},
   "outputs": [
    {
     "data": {
      "text/plain": [
       "array([60, 30, 54, ..., 61, 12, 39])"
      ]
     },
     "execution_count": 26,
     "metadata": {},
     "output_type": "execute_result"
    }
   ],
   "source": [
    "y_train"
   ]
  },
  {
   "cell_type": "code",
   "execution_count": 27,
   "metadata": {},
   "outputs": [],
   "source": [
    "from keras.utils.np_utils import to_categorical"
   ]
  },
  {
   "cell_type": "code",
   "execution_count": 28,
   "metadata": {},
   "outputs": [],
   "source": [
    "y_train = to_categorical(y_train, len(folders))\n",
    "y_test = to_categorical(y_test, len(folders))\n",
    "y_validation = to_categorical(y_validation, len(folders))"
   ]
  },
  {
   "cell_type": "code",
   "execution_count": 29,
   "metadata": {},
   "outputs": [
    {
     "data": {
      "text/plain": [
       "array([[0., 0., 0., ..., 0., 1., 0.],\n",
       "       [0., 0., 0., ..., 0., 0., 0.],\n",
       "       [0., 0., 0., ..., 0., 0., 0.],\n",
       "       ...,\n",
       "       [0., 0., 0., ..., 0., 0., 1.],\n",
       "       [0., 0., 0., ..., 0., 0., 0.],\n",
       "       [0., 0., 0., ..., 0., 0., 0.]], dtype=float32)"
      ]
     },
     "execution_count": 29,
     "metadata": {},
     "output_type": "execute_result"
    }
   ],
   "source": [
    "y_train"
   ]
  },
  {
   "cell_type": "code",
   "execution_count": 58,
   "metadata": {},
   "outputs": [],
   "source": [
    "def myModel():\n",
    "    no_of_filters = 60\n",
    "    size_of_filter1 = (5, 5)\n",
    "    size_of_filter2 = (3, 3)\n",
    "    size_of_pool = (2, 2)\n",
    "    no_of_nodes = 128 \n",
    "    \n",
    "    model=Sequential()\n",
    "    model.add(Conv2D(no_of_filters, size_of_filter1, input_shape=(64, 64, 1), activation='relu'))\n",
    "    model.add(MaxPooling2D(pool_size= size_of_pool))\n",
    "    model.add(Conv2D(no_of_filters//2, size_of_filter2, activation='relu'))\n",
    "    model.add(MaxPooling2D(pool_size=(2,2)))\n",
    "        \n",
    "    model.add(Flatten())\n",
    "    model.add(Dense(no_of_nodes,activation='relu'))\n",
    "    model.add(Dropout(0.5))\n",
    "    model.add(Dense(62,activation='softmax'))\n",
    "    \n",
    "    model.compile(optimizer = 'adam', loss='categorical_crossentropy', metrics=['accuracy'])\n",
    "    \n",
    "    return model"
   ]
  },
  {
   "cell_type": "code",
   "execution_count": 59,
   "metadata": {},
   "outputs": [
    {
     "name": "stdout",
     "output_type": "stream",
     "text": [
      "Model: \"sequential_3\"\n",
      "_________________________________________________________________\n",
      "Layer (type)                 Output Shape              Param #   \n",
      "=================================================================\n",
      "conv2d_6 (Conv2D)            (None, 60, 60, 60)        1560      \n",
      "_________________________________________________________________\n",
      "max_pooling2d_6 (MaxPooling2 (None, 30, 30, 60)        0         \n",
      "_________________________________________________________________\n",
      "conv2d_7 (Conv2D)            (None, 28, 28, 30)        16230     \n",
      "_________________________________________________________________\n",
      "max_pooling2d_7 (MaxPooling2 (None, 14, 14, 30)        0         \n",
      "_________________________________________________________________\n",
      "flatten_3 (Flatten)          (None, 5880)              0         \n",
      "_________________________________________________________________\n",
      "dense_6 (Dense)              (None, 128)               752768    \n",
      "_________________________________________________________________\n",
      "dropout_3 (Dropout)          (None, 128)               0         \n",
      "_________________________________________________________________\n",
      "dense_7 (Dense)              (None, 62)                7998      \n",
      "=================================================================\n",
      "Total params: 778,556\n",
      "Trainable params: 778,556\n",
      "Non-trainable params: 0\n",
      "_________________________________________________________________\n"
     ]
    }
   ],
   "source": [
    "model = myModel()\n",
    "model.summary()"
   ]
  },
  {
   "cell_type": "code",
   "execution_count": 60,
   "metadata": {},
   "outputs": [
    {
     "name": "stdout",
     "output_type": "stream",
     "text": [
      "40312 10078\n"
     ]
    }
   ],
   "source": [
    "print(len(x_train), len(x_validation))"
   ]
  },
  {
   "cell_type": "code",
   "execution_count": 61,
   "metadata": {},
   "outputs": [],
   "source": [
    "batch = 32\n",
    "epoch = 15\n",
    "steps_per_epoch = 1250"
   ]
  },
  {
   "cell_type": "code",
   "execution_count": 62,
   "metadata": {},
   "outputs": [
    {
     "name": "stdout",
     "output_type": "stream",
     "text": [
      "Epoch 1/15\n",
      "1250/1250 [==============================] - 278s 223ms/step - loss: 1.9932 - accuracy: 0.4509 - val_loss: 0.6393 - val_accuracy: 0.8007\n",
      "Epoch 2/15\n",
      "1250/1250 [==============================] - 290s 232ms/step - loss: 1.0751 - accuracy: 0.6674 - val_loss: 0.5384 - val_accuracy: 0.8191\n",
      "Epoch 3/15\n",
      "1250/1250 [==============================] - 282s 225ms/step - loss: 0.9137 - accuracy: 0.7058 - val_loss: 0.5074 - val_accuracy: 0.8239\n",
      "Epoch 4/15\n",
      "1250/1250 [==============================] - 322s 258ms/step - loss: 0.8348 - accuracy: 0.7311 - val_loss: 0.4738 - val_accuracy: 0.8359\n",
      "Epoch 5/15\n",
      "1250/1250 [==============================] - 315s 252ms/step - loss: 0.7866 - accuracy: 0.7397 - val_loss: 0.4522 - val_accuracy: 0.8370\n",
      "Epoch 6/15\n",
      "1250/1250 [==============================] - 314s 252ms/step - loss: 0.7431 - accuracy: 0.7499 - val_loss: 0.4345 - val_accuracy: 0.8418\n",
      "Epoch 7/15\n",
      "1250/1250 [==============================] - 288s 230ms/step - loss: 0.7158 - accuracy: 0.7589 - val_loss: 0.4324 - val_accuracy: 0.8413\n",
      "Epoch 8/15\n",
      "1250/1250 [==============================] - 241s 193ms/step - loss: 0.6915 - accuracy: 0.7672 - val_loss: 0.4242 - val_accuracy: 0.8502\n",
      "Epoch 9/15\n",
      "1250/1250 [==============================] - 243s 194ms/step - loss: 0.6797 - accuracy: 0.7683 - val_loss: 0.4140 - val_accuracy: 0.8436\n",
      "Epoch 10/15\n",
      "1250/1250 [==============================] - 239s 191ms/step - loss: 0.6679 - accuracy: 0.7703 - val_loss: 0.4048 - val_accuracy: 0.8531\n",
      "Epoch 11/15\n",
      "1250/1250 [==============================] - 245s 196ms/step - loss: 0.6538 - accuracy: 0.7753 - val_loss: 0.3926 - val_accuracy: 0.8588\n",
      "Epoch 12/15\n",
      "1250/1250 [==============================] - 311s 248ms/step - loss: 0.6354 - accuracy: 0.7809 - val_loss: 0.3940 - val_accuracy: 0.8517\n",
      "Epoch 13/15\n",
      "1250/1250 [==============================] - 282s 225ms/step - loss: 0.6277 - accuracy: 0.7813 - val_loss: 0.3781 - val_accuracy: 0.8565\n",
      "Epoch 14/15\n",
      "1250/1250 [==============================] - 246s 197ms/step - loss: 0.6202 - accuracy: 0.7840 - val_loss: 0.3808 - val_accuracy: 0.8586\n",
      "Epoch 15/15\n",
      "1250/1250 [==============================] - 253s 202ms/step - loss: 0.6032 - accuracy: 0.7890 - val_loss: 0.3846 - val_accuracy: 0.8569\n"
     ]
    }
   ],
   "source": [
    "history = model.fit_generator(dataGen.flow(x_train, y_train, batch_size = batch),\n",
    "                                 steps_per_epoch = steps_per_epoch,\n",
    "                                 epochs = epoch,\n",
    "                                 validation_data = (x_validation, y_validation),\n",
    "                                 shuffle=1)"
   ]
  },
  {
   "cell_type": "markdown",
   "metadata": {},
   "source": [
    "## Ploting the Result"
   ]
  },
  {
   "cell_type": "code",
   "execution_count": 63,
   "metadata": {},
   "outputs": [
    {
     "data": {
      "image/png": "[encoded data removed]",
      "text/plain": [
       "<Figure size 432x288 with 1 Axes>"
      ]
     },
     "metadata": {
      "needs_background": "light"
     },
     "output_type": "display_data"
    }
   ],
   "source": [
    "plt.figure(1)\n",
    "plt.plot(history.history['loss'])\n",
    "plt.plot(history.history['val_loss'])\n",
    "plt.legend(['training','validation'])\n",
    "plt.title('Loss')\n",
    "plt.xlabel('epoch')\n",
    "plt.show()"
   ]
  },
  {
   "cell_type": "code",
   "execution_count": 64,
   "metadata": {},
   "outputs": [
    {
     "data": {
      "image/png": "[encoded data removed]",
      "text/plain": [
       "<Figure size 432x288 with 1 Axes>"
      ]
     },
     "metadata": {
      "needs_background": "light"
     },
     "output_type": "display_data"
    }
   ],
   "source": [
    "plt.figure(2)\n",
    "plt.plot(history.history['accuracy'])\n",
    "plt.plot(history.history['val_accuracy'])\n",
    "plt.legend(['training','validation'])\n",
    "plt.title('Accuracy')\n",
    "plt.xlabel('epoch')\n",
    "plt.show()"
   ]
  },
  {
   "cell_type": "code",
   "execution_count": 65,
   "metadata": {},
   "outputs": [
    {
     "name": "stdout",
     "output_type": "stream",
     "text": [
      "Test Score =  0.3849438726902008\n",
      "Test Accuracy = 0.854341983795166\n"
     ]
    }
   ],
   "source": [
    "model_test_score = model.evaluate(x_test, y_test, verbose=0)\n",
    "print('Test Score = ', model_test_score[0])\n",
    "print('Test Accuracy =', model_test_score[1])"
   ]
  },
  {
   "cell_type": "code",
   "execution_count": 66,
   "metadata": {},
   "outputs": [],
   "source": [
    "model.save(\"ocr_model_bs32_ep10.h5\")"
   ]
  },
  {
   "cell_type": "code",
   "execution_count": 1,
   "metadata": {},
   "outputs": [],
   "source": [
    "arr_out = []\n",
    "arr_result = ['0','1','2','3','4','5','6','7','8','9',\n",
    "              'A','B','C','D','E','F','G','H','I','J','K','L','M','N','O','P','Q','R','S','T','U','V','W','X','Y','Z',\n",
    "              'a','b','c','d','e','f','g','h','i','j','k','l','m','n','o','p','q','r','s','t','u','v','w','x','y','z',]"
   ]
  },
  {
   "cell_type": "code",
   "execution_count": 7,
   "metadata": {},
   "outputs": [],
   "source": [
    "model=load_model('ocr_model_bs32_ep10.h5')"
   ]
  },
  {
   "cell_type": "code",
   "execution_count": null,
   "metadata": {},
   "outputs": [],
   "source": []
  }
 ],
 "metadata": {
  "kernelspec": {
   "display_name": "Python 3",
   "language": "python",
   "name": "python3"
  },
  "language_info": {
   "codemirror_mode": {
    "name": "ipython",
    "version": 3
   },
   "file_extension": ".py",
   "mimetype": "text/x-python",
   "name": "python",
   "nbconvert_exporter": "python",
   "pygments_lexer": "ipython3",
   "version": "3.8.3"
  }
 },
 "nbformat": 4,
 "nbformat_minor": 4
}
